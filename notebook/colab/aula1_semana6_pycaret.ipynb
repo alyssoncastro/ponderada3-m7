{
  "cells": [
    {
      "cell_type": "code",
      "execution_count": null,
      "metadata": {
        "id": "k--pbga8H6KQ"
      },
      "outputs": [],
      "source": [
        "!pip3 install pycaret[full] #usar a versão completa"
      ]
    },
    {
      "cell_type": "code",
      "execution_count": null,
      "metadata": {
        "id": "Doys0lF_IcxE"
      },
      "outputs": [],
      "source": [
        "!pip install unidecode"
      ]
    },
    {
      "cell_type": "code",
      "execution_count": null,
      "metadata": {
        "id": "8CD33EatII4R"
      },
      "outputs": [],
      "source": [
        "import pandas as pd\n",
        "import numpy as np\n",
        "from unidecode import unidecode"
      ]
    },
    {
      "cell_type": "code",
      "execution_count": null,
      "metadata": {
        "id": "sN_eFiKiII1e"
      },
      "outputs": [],
      "source": [
        "df = pd.read_csv('/content/pre-processed_data_COVID19.csv')\n",
        "df.head()"
      ]
    },
    {
      "cell_type": "code",
      "execution_count": null,
      "metadata": {
        "id": "GpJS4sMyIIzH"
      },
      "outputs": [],
      "source": [
        "df.columns"
      ]
    },
    {
      "cell_type": "markdown",
      "metadata": {
        "id": "vV-7SbeHIwVG"
      },
      "source": [
        "##  #Importando o Pycaret"
      ]
    },
    {
      "cell_type": "code",
      "execution_count": null,
      "metadata": {
        "id": "hQi6_el8IIwQ"
      },
      "outputs": [],
      "source": [
        "from pycaret.classification import *"
      ]
    },
    {
      "cell_type": "code",
      "execution_count": null,
      "metadata": {
        "id": "g3xucAcCIItm"
      },
      "outputs": [],
      "source": [
        "s = setup(\n",
        "    data = df,\n",
        "    target = 'Classification',\n",
        "    use_gpu=True,\n",
        "    ignore_features=['Source of Infection\t', 'Outbreak Associated']\n",
        ")"
      ]
    },
    {
      "cell_type": "code",
      "execution_count": null,
      "metadata": {
        "id": "XJtBTkk7IIrA"
      },
      "outputs": [],
      "source": [
        "melhor_modelo = compare_models()"
      ]
    },
    {
      "cell_type": "code",
      "execution_count": null,
      "metadata": {
        "id": "n83rpcPoIIoe"
      },
      "outputs": [],
      "source": [
        "melhor_modelo"
      ]
    },
    {
      "cell_type": "code",
      "execution_count": null,
      "metadata": {
        "id": "E3STwe6YIImE"
      },
      "outputs": [],
      "source": [
        "evaluate_model(melhor_modelo)"
      ]
    },
    {
      "cell_type": "code",
      "execution_count": null,
      "metadata": {
        "id": "FlByrER3IIjc"
      },
      "outputs": [],
      "source": [
        "#salvando o modelo\n",
        "save_model(melhor_modelo, 'modelo_2')"
      ]
    },
    {
      "cell_type": "code",
      "execution_count": null,
      "metadata": {
        "id": "7Yd36Yj7IIhD"
      },
      "outputs": [],
      "source": [
        "modelo_final = create_model(melhor_modelo)"
      ]
    },
    {
      "cell_type": "code",
      "execution_count": null,
      "metadata": {
        "id": "Mtm7l7bmIIer"
      },
      "outputs": [],
      "source": [
        "previsoes = predict_model(modelo_final, data=df)"
      ]
    },
    {
      "cell_type": "markdown",
      "metadata": {
        "id": "7-5StrVFJKy1"
      },
      "source": [
        "# CONSTRUINDO MINHA API"
      ]
    },
    {
      "cell_type": "markdown",
      "metadata": {
        "id": "zD3ol_dFMJBt"
      },
      "source": [
        "## Usando FastAPI"
      ]
    },
    {
      "cell_type": "code",
      "execution_count": null,
      "metadata": {
        "id": "bqW3TlFCMH1E"
      },
      "outputs": [],
      "source": [
        "!pip install pycaret[full] fastapi"
      ]
    },
    {
      "cell_type": "code",
      "execution_count": null,
      "metadata": {
        "id": "PchWymv-iz7n"
      },
      "outputs": [],
      "source": [
        "!pip install uvicorn"
      ]
    },
    {
      "cell_type": "code",
      "execution_count": null,
      "metadata": {
        "id": "7idiP6RKi_HL"
      },
      "outputs": [],
      "source": [
        "pip install 'uvicorn[standard]'"
      ]
    },
    {
      "cell_type": "code",
      "execution_count": null,
      "metadata": {
        "id": "O5B5B5HrNFA7"
      },
      "outputs": [],
      "source": [
        "from fastapi import FastAPI\n",
        "from pydantic import BaseModel\n",
        "import joblib\n",
        "import uvicorn\n",
        "\n",
        "# Carregando o modelo treinado\n",
        "modelo = joblib.load('/content/modelo_2.pkl')\n",
        "\n",
        "\n",
        "app = FastAPI()\n",
        "\n",
        "\n",
        "class DadosEntrada(BaseModel):\n",
        "    feature1: float\n",
        "    feature2: float\n",
        "\n",
        "\n",
        "# Definindo um endpoint\n",
        "@app.post(\"/prever/\")\n",
        "async def prever(dados: DadosEntrada):\n",
        "    dados_para_previsao = [[dados.feature1, dados.feature2]]\n",
        "\n",
        "    previsao = modelo.predict(dados_para_previsao)[0]\n",
        "\n",
        "    # Retornando a previsão\n",
        "    return {\"previsao\": previsao}"
      ]
    },
    {
      "cell_type": "markdown",
      "metadata": {
        "id": "bcMvcxwun0gR"
      },
      "source": [
        "#### outro código para testar, sem exito.\n"
      ]
    },
    {
      "cell_type": "code",
      "execution_count": null,
      "metadata": {
        "id": "5-gkNDY_MHyT"
      },
      "outputs": [],
      "source": [
        "import pandas as pd\n",
        "from pycaret.classification import *\n",
        "from fastapi import FastAPI\n",
        "from pydantic import BaseModel\n",
        "import uvicorn\n",
        "import joblib"
      ]
    },
    {
      "cell_type": "code",
      "execution_count": null,
      "metadata": {
        "id": "RUe5jXLzMHv1"
      },
      "outputs": [],
      "source": [
        "model = load_model('modelo_2')"
      ]
    },
    {
      "cell_type": "code",
      "execution_count": null,
      "metadata": {
        "id": "BV7Yai-9MHtQ"
      },
      "outputs": [],
      "source": [
        "app = FastAPI()\n",
        "\n",
        "class InputData(BaseModel):\n",
        "    feature1: float\n",
        "    feature2: float\n",
        "\n",
        "@app.post(\"/predict/\")\n",
        "async def predict(data: InputData):\n",
        "    try:\n",
        "        input_data = {\n",
        "            'feature1': data.feature1,\n",
        "            'feature2': data.feature2\n",
        "        }\n",
        "\n",
        "\n",
        "        prediction = predict_model(model, data=input_data)\n",
        "\n",
        "\n",
        "        return {'prediction': prediction['Label'][0]}\n",
        "    except Exception as e:\n",
        "        return {'error': str(e)}"
      ]
    },
    {
      "cell_type": "code",
      "execution_count": null,
      "metadata": {
        "id": "b3wdrutUMHqk"
      },
      "outputs": [],
      "source": [
        "if __name__ == '__main__':\n",
        "  uvicorn.run(app, host='0.0.0.0', port=8000)"
      ]
    }
  ],
  "metadata": {
    "colab": {
      "private_outputs": true,
      "provenance": []
    },
    "kernelspec": {
      "display_name": "Python 3",
      "name": "python3"
    },
    "language_info": {
      "name": "python"
    }
  },
  "nbformat": 4,
  "nbformat_minor": 0
}
